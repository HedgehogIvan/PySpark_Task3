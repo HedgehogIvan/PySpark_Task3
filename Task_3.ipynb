{
 "cells": [
  {
   "cell_type": "code",
   "execution_count": 1,
   "id": "4a55e98f-6617-490d-b83c-78e231e5829b",
   "metadata": {},
   "outputs": [],
   "source": [
    "from pyspark.sql import Row\n",
    "from pyspark.sql import SparkSession\n",
    "\n",
    "spark = SparkSession.builder.getOrCreate()"
   ]
  },
  {
   "cell_type": "code",
   "execution_count": 2,
   "id": "4cbe3027-4f00-4004-8a7d-c030941f0298",
   "metadata": {},
   "outputs": [],
   "source": [
    "product = spark.createDataFrame([\n",
    "    Row(id=1, name='Milk'),\n",
    "    Row(id=2, name='Eggs'),\n",
    "    Row(id=3, name='Garlic'),\n",
    "    Row(id=4, name='Beer'),\n",
    "    Row(id=5, name='Hammer'),\n",
    "    Row(id=6, name='Cucumber'),\n",
    "    Row(id=7, name='Insect_meat'),\n",
    "])\n",
    "\n",
    "category = spark.createDataFrame([\n",
    "    Row(id=1, name='Drink'),\n",
    "    Row(id=2, name='Food'),\n",
    "    Row(id=3, name='Vegetable'),\n",
    "    Row(id=4, name='Car'),\n",
    "])\n",
    "\n",
    "product_to_category = spark.createDataFrame([\n",
    "    Row(product_id=1, category_id=1),\n",
    "    Row(product_id=2, category_id=2),\n",
    "    Row(product_id=3, category_id=3),\n",
    "    Row(product_id=3, category_id=2),\n",
    "    Row(product_id=4, category_id=1),\n",
    "    Row(product_id=6, category_id=2),\n",
    "    Row(product_id=6, category_id=3),\n",
    "    Row(product_id=7, category_id=2),\n",
    "])"
   ]
  },
  {
   "cell_type": "code",
   "execution_count": 3,
   "id": "b0cd0e06-b473-4007-87c7-50fca2be609d",
   "metadata": {},
   "outputs": [
    {
     "name": "stdout",
     "output_type": "stream",
     "text": [
      "+-----------+---------+\n",
      "|    product| category|\n",
      "+-----------+---------+\n",
      "|       Milk|    Drink|\n",
      "|       Eggs|     Food|\n",
      "|     Garlic|     Food|\n",
      "|     Garlic|Vegetable|\n",
      "|       Beer|    Drink|\n",
      "|     Hammer|     NULL|\n",
      "|Insect_meat|     Food|\n",
      "|   Cucumber|Vegetable|\n",
      "|   Cucumber|     Food|\n",
      "+-----------+---------+\n",
      "\n"
     ]
    }
   ],
   "source": [
    "product.join(\n",
    "    product_to_category, product.id == product_to_category.product_id, \"left\"\n",
    ").join(\n",
    "    category, product_to_category.category_id == category.id, \"left\"\n",
    ").select(\n",
    "    product.name.alias(\"product\"), category.name.alias(\"category\")\n",
    ").show()"
   ]
  },
  {
   "cell_type": "code",
   "execution_count": null,
   "id": "8f885663-3f55-47cb-9b52-c20a7d29c93c",
   "metadata": {},
   "outputs": [],
   "source": []
  }
 ],
 "metadata": {
  "kernelspec": {
   "display_name": "Python 3 (ipykernel)",
   "language": "python",
   "name": "python3"
  },
  "language_info": {
   "codemirror_mode": {
    "name": "ipython",
    "version": 3
   },
   "file_extension": ".py",
   "mimetype": "text/x-python",
   "name": "python",
   "nbconvert_exporter": "python",
   "pygments_lexer": "ipython3",
   "version": "3.11.6"
  }
 },
 "nbformat": 4,
 "nbformat_minor": 5
}
